{
 "cells": [
  {
   "cell_type": "code",
   "execution_count": 14,
   "metadata": {},
   "outputs": [],
   "source": [
    "import warnings\n",
    "warnings.filterwarnings(\"ignore\")"
   ]
  },
  {
   "cell_type": "code",
   "execution_count": 15,
   "metadata": {},
   "outputs": [],
   "source": [
    "import pandas as pd\n",
    "from importlib import reload\n",
    "import matplotlib.pyplot as plt\n",
    "import numpy as np\n",
    "import random\n",
    "import seaborn as sns\n",
    "from os import getcwd"
   ]
  },
  {
   "cell_type": "code",
   "execution_count": 37,
   "metadata": {},
   "outputs": [
    {
     "data": {
      "text/plain": [
       "<module 'utils' from 'C:\\\\Users\\\\Smit\\\\ds5230_2020_project\\\\utils.py'>"
      ]
     },
     "execution_count": 37,
     "metadata": {},
     "output_type": "execute_result"
    }
   ],
   "source": [
    "import utils\n",
    "reload(utils)"
   ]
  },
  {
   "cell_type": "code",
   "execution_count": 17,
   "metadata": {},
   "outputs": [],
   "source": [
    "PROJECT_PATH = getcwd()\n",
    "PICKLE_PATH = PROJECT_PATH + \"\\\\pickles\\\\\""
   ]
  },
  {
   "cell_type": "markdown",
   "metadata": {},
   "source": [
    "# Reading styles file containing information like apparel categories and sub-categories of images"
   ]
  },
  {
   "cell_type": "code",
   "execution_count": 18,
   "metadata": {},
   "outputs": [
    {
     "name": "stderr",
     "output_type": "stream",
     "text": [
      "b'Skipping line 6044: expected 10 fields, saw 11\\nSkipping line 6569: expected 10 fields, saw 11\\nSkipping line 7399: expected 10 fields, saw 11\\nSkipping line 7939: expected 10 fields, saw 11\\nSkipping line 9026: expected 10 fields, saw 11\\nSkipping line 10264: expected 10 fields, saw 11\\nSkipping line 10427: expected 10 fields, saw 11\\nSkipping line 10905: expected 10 fields, saw 11\\nSkipping line 11373: expected 10 fields, saw 11\\nSkipping line 11945: expected 10 fields, saw 11\\nSkipping line 14112: expected 10 fields, saw 11\\nSkipping line 14532: expected 10 fields, saw 11\\nSkipping line 15076: expected 10 fields, saw 12\\nSkipping line 29906: expected 10 fields, saw 11\\nSkipping line 31625: expected 10 fields, saw 11\\nSkipping line 33020: expected 10 fields, saw 11\\nSkipping line 35748: expected 10 fields, saw 11\\nSkipping line 35962: expected 10 fields, saw 11\\nSkipping line 37770: expected 10 fields, saw 11\\nSkipping line 38105: expected 10 fields, saw 11\\nSkipping line 38275: expected 10 fields, saw 11\\nSkipping line 38404: expected 10 fields, saw 12\\n'\n"
     ]
    },
    {
     "data": {
      "text/html": [
       "<div>\n",
       "<style scoped>\n",
       "    .dataframe tbody tr th:only-of-type {\n",
       "        vertical-align: middle;\n",
       "    }\n",
       "\n",
       "    .dataframe tbody tr th {\n",
       "        vertical-align: top;\n",
       "    }\n",
       "\n",
       "    .dataframe thead th {\n",
       "        text-align: right;\n",
       "    }\n",
       "</style>\n",
       "<table border=\"1\" class=\"dataframe\">\n",
       "  <thead>\n",
       "    <tr style=\"text-align: right;\">\n",
       "      <th></th>\n",
       "      <th>id</th>\n",
       "      <th>gender</th>\n",
       "      <th>masterCategory</th>\n",
       "      <th>subCategory</th>\n",
       "      <th>articleType</th>\n",
       "      <th>baseColour</th>\n",
       "      <th>season</th>\n",
       "      <th>year</th>\n",
       "      <th>usage</th>\n",
       "      <th>productDisplayName</th>\n",
       "    </tr>\n",
       "  </thead>\n",
       "  <tbody>\n",
       "    <tr>\n",
       "      <th>0</th>\n",
       "      <td>15970</td>\n",
       "      <td>Men</td>\n",
       "      <td>Apparel</td>\n",
       "      <td>Topwear</td>\n",
       "      <td>Shirts</td>\n",
       "      <td>Navy Blue</td>\n",
       "      <td>Fall</td>\n",
       "      <td>2011.0</td>\n",
       "      <td>Casual</td>\n",
       "      <td>Turtle Check Men Navy Blue Shirt</td>\n",
       "    </tr>\n",
       "    <tr>\n",
       "      <th>1</th>\n",
       "      <td>39386</td>\n",
       "      <td>Men</td>\n",
       "      <td>Apparel</td>\n",
       "      <td>Bottomwear</td>\n",
       "      <td>Jeans</td>\n",
       "      <td>Blue</td>\n",
       "      <td>Summer</td>\n",
       "      <td>2012.0</td>\n",
       "      <td>Casual</td>\n",
       "      <td>Peter England Men Party Blue Jeans</td>\n",
       "    </tr>\n",
       "    <tr>\n",
       "      <th>2</th>\n",
       "      <td>59263</td>\n",
       "      <td>Women</td>\n",
       "      <td>Accessories</td>\n",
       "      <td>Watches</td>\n",
       "      <td>Watches</td>\n",
       "      <td>Silver</td>\n",
       "      <td>Winter</td>\n",
       "      <td>2016.0</td>\n",
       "      <td>Casual</td>\n",
       "      <td>Titan Women Silver Watch</td>\n",
       "    </tr>\n",
       "    <tr>\n",
       "      <th>3</th>\n",
       "      <td>21379</td>\n",
       "      <td>Men</td>\n",
       "      <td>Apparel</td>\n",
       "      <td>Bottomwear</td>\n",
       "      <td>Track Pants</td>\n",
       "      <td>Black</td>\n",
       "      <td>Fall</td>\n",
       "      <td>2011.0</td>\n",
       "      <td>Casual</td>\n",
       "      <td>Manchester United Men Solid Black Track Pants</td>\n",
       "    </tr>\n",
       "    <tr>\n",
       "      <th>4</th>\n",
       "      <td>53759</td>\n",
       "      <td>Men</td>\n",
       "      <td>Apparel</td>\n",
       "      <td>Topwear</td>\n",
       "      <td>Tshirts</td>\n",
       "      <td>Grey</td>\n",
       "      <td>Summer</td>\n",
       "      <td>2012.0</td>\n",
       "      <td>Casual</td>\n",
       "      <td>Puma Men Grey T-shirt</td>\n",
       "    </tr>\n",
       "  </tbody>\n",
       "</table>\n",
       "</div>"
      ],
      "text/plain": [
       "      id gender masterCategory subCategory  articleType baseColour  season  \\\n",
       "0  15970    Men        Apparel     Topwear       Shirts  Navy Blue    Fall   \n",
       "1  39386    Men        Apparel  Bottomwear        Jeans       Blue  Summer   \n",
       "2  59263  Women    Accessories     Watches      Watches     Silver  Winter   \n",
       "3  21379    Men        Apparel  Bottomwear  Track Pants      Black    Fall   \n",
       "4  53759    Men        Apparel     Topwear      Tshirts       Grey  Summer   \n",
       "\n",
       "     year   usage                             productDisplayName  \n",
       "0  2011.0  Casual               Turtle Check Men Navy Blue Shirt  \n",
       "1  2012.0  Casual             Peter England Men Party Blue Jeans  \n",
       "2  2016.0  Casual                       Titan Women Silver Watch  \n",
       "3  2011.0  Casual  Manchester United Men Solid Black Track Pants  \n",
       "4  2012.0  Casual                          Puma Men Grey T-shirt  "
      ]
     },
     "execution_count": 18,
     "metadata": {},
     "output_type": "execute_result"
    }
   ],
   "source": [
    "styles = pd.read_csv('styles.csv', error_bad_lines = False)\n",
    "styles.head()"
   ]
  },
  {
   "cell_type": "markdown",
   "metadata": {},
   "source": [
    "### Category distribution in the dataset"
   ]
  },
  {
   "cell_type": "code",
   "execution_count": 19,
   "metadata": {},
   "outputs": [
    {
     "name": "stdout",
     "output_type": "stream",
     "text": [
      "Apparel           21397\n",
      "Accessories       11274\n",
      "Footwear           9219\n",
      "Personal Care      2403\n",
      "Free Items          105\n",
      "Sporting Goods       25\n",
      "Home                  1\n",
      "Name: masterCategory, dtype: int64\n"
     ]
    },
    {
     "data": {
      "image/png": "[encoded data removed]",
      "text/plain": [
       "<Figure size 576x432 with 1 Axes>"
      ]
     },
     "metadata": {
      "needs_background": "light"
     },
     "output_type": "display_data"
    }
   ],
   "source": [
    "categories = styles['masterCategory'].value_counts()\n",
    "plt.figure(figsize=(8,6))\n",
    "sns.barplot(x=[name for name in categories.index], y = [cnt for cnt in categories])\n",
    "plt.title(\"Category Count Distribution\")\n",
    "print(categories)\n",
    "del categories"
   ]
  },
  {
   "cell_type": "markdown",
   "metadata": {},
   "source": [
    "### Sub-Category Distribution"
   ]
  },
  {
   "cell_type": "code",
   "execution_count": 20,
   "metadata": {},
   "outputs": [
    {
     "name": "stdout",
     "output_type": "stream",
     "text": [
      "              sub_categories  count     %total\n",
      "0                    Topwear  15402  34.670448\n",
      "1                      Shoes   7343  16.529354\n",
      "2                       Bags   3055   6.876913\n",
      "3                 Bottomwear   2694   6.064290\n",
      "4                    Watches   2542   5.722132\n",
      "5                  Innerwear   1808   4.069872\n",
      "6                  Jewellery   1079   2.428867\n",
      "7                    Eyewear   1073   2.415361\n",
      "8                  Fragrance   1011   2.275797\n",
      "9                     Sandal    963   2.167747\n",
      "10                   Wallets    933   2.100216\n",
      "11                Flip Flops    913   2.055195\n",
      "12                     Belts    811   1.825590\n",
      "13                     Socks    698   1.571223\n",
      "14                      Lips    527   1.186296\n",
      "15                     Dress    478   1.075995\n",
      "16  Loungewear and Nightwear    470   1.057987\n",
      "17                     Saree    427   0.961192\n",
      "18                     Nails    329   0.740591\n",
      "19                    Makeup    307   0.691068\n",
      "20                  Headwear    293   0.659553\n",
      "21                      Ties    258   0.580767\n",
      "22               Accessories    129   0.290384\n",
      "23                   Scarves    118   0.265622\n",
      "24                 Cufflinks    108   0.243112\n",
      "25               Apparel Set    106   0.238610\n",
      "26                Free Gifts    104   0.234108\n",
      "27                    Stoles     90   0.202593\n",
      "28                 Skin Care     77   0.173330\n",
      "29                      Skin     69   0.155321\n",
      "30                      Eyes     43   0.096795\n",
      "31                  Mufflers     38   0.085539\n",
      "32          Shoe Accessories     24   0.054025\n",
      "33          Sports Equipment     21   0.047272\n",
      "34                    Gloves     20   0.045021\n",
      "35                      Hair     19   0.042770\n",
      "36             Bath and Body     12   0.027012\n",
      "37              Water Bottle      7   0.015757\n",
      "38                 Umbrellas      6   0.013506\n",
      "39                  Perfumes      6   0.013506\n",
      "40                Wristbands      4   0.009004\n",
      "41        Beauty Accessories      4   0.009004\n",
      "42        Sports Accessories      3   0.006753\n",
      "43                  Vouchers      1   0.002251\n",
      "44           Home Furnishing      1   0.002251\n"
     ]
    },
    {
     "data": {
      "image/png": "[encoded data removed]",
      "text/plain": [
       "<Figure size 720x720 with 1 Axes>"
      ]
     },
     "metadata": {
      "needs_background": "light"
     },
     "output_type": "display_data"
    }
   ],
   "source": [
    "sub_categories = styles['subCategory'].value_counts().rename_axis('sub_categories').reset_index(name='count')\n",
    "plt.figure(figsize=(10,10))\n",
    "sns.barplot(y=sub_categories['sub_categories'], x = sub_categories['count'])\n",
    "plt.title(\"Sub-Category Count Distribution\")\n",
    "plt.xticks(rotation=90)\n",
    "sub_categories['%total'] = (sub_categories['count']*100)/sub_categories['count'].sum() \n",
    "print(sub_categories)"
   ]
  },
  {
   "cell_type": "markdown",
   "metadata": {},
   "source": [
    "# Random sampling picking equal count of major subcategories "
   ]
  },
  {
   "cell_type": "code",
   "execution_count": 21,
   "metadata": {},
   "outputs": [],
   "source": [
    "MIN_COUNT = 900"
   ]
  },
  {
   "cell_type": "code",
   "execution_count": 22,
   "metadata": {},
   "outputs": [
    {
     "name": "stdout",
     "output_type": "stream",
     "text": [
      "Total categories:  12\n",
      "Eyewear       900\n",
      "Watches       900\n",
      "Fragrance     900\n",
      "Bags          900\n",
      "Bottomwear    900\n",
      "Jewellery     900\n",
      "Flip Flops    900\n",
      "Innerwear     900\n",
      "Shoes         900\n",
      "Wallets       900\n",
      "Sandal        900\n",
      "Topwear       900\n",
      "Name: subCategory, dtype: int64\n",
      "\n",
      "\n",
      "Total sampled data size:  10800\n"
     ]
    }
   ],
   "source": [
    "sampled_categories = list(sub_categories[sub_categories['count'] >= MIN_COUNT]['sub_categories'])\n",
    "print(\"Total categories: \", len(sampled_categories))\n",
    "sampled_styles = styles[styles['subCategory'].isin(sampled_categories)].reset_index(drop=True)\n",
    "sampled_styles = sampled_styles.groupby('subCategory').apply(lambda x: x.sample(n = MIN_COUNT, \n",
    "                                                                                random_state = 99)).reset_index(drop = True)\n",
    "print(sampled_styles['subCategory'].value_counts())\n",
    "print(\"\\n\")\n",
    "print(\"Total sampled data size: \", len(sampled_styles))"
   ]
  },
  {
   "cell_type": "code",
   "execution_count": 23,
   "metadata": {},
   "outputs": [
    {
     "data": {
      "text/html": [
       "<div>\n",
       "<style scoped>\n",
       "    .dataframe tbody tr th:only-of-type {\n",
       "        vertical-align: middle;\n",
       "    }\n",
       "\n",
       "    .dataframe tbody tr th {\n",
       "        vertical-align: top;\n",
       "    }\n",
       "\n",
       "    .dataframe thead th {\n",
       "        text-align: right;\n",
       "    }\n",
       "</style>\n",
       "<table border=\"1\" class=\"dataframe\">\n",
       "  <thead>\n",
       "    <tr style=\"text-align: right;\">\n",
       "      <th></th>\n",
       "      <th>id</th>\n",
       "      <th>gender</th>\n",
       "      <th>masterCategory</th>\n",
       "      <th>subCategory</th>\n",
       "      <th>articleType</th>\n",
       "      <th>baseColour</th>\n",
       "      <th>season</th>\n",
       "      <th>year</th>\n",
       "      <th>usage</th>\n",
       "      <th>productDisplayName</th>\n",
       "    </tr>\n",
       "  </thead>\n",
       "  <tbody>\n",
       "    <tr>\n",
       "      <th>0</th>\n",
       "      <td>6557</td>\n",
       "      <td>Unisex</td>\n",
       "      <td>Accessories</td>\n",
       "      <td>Bags</td>\n",
       "      <td>Backpacks</td>\n",
       "      <td>Blue</td>\n",
       "      <td>Summer</td>\n",
       "      <td>2011.0</td>\n",
       "      <td>Casual</td>\n",
       "      <td>Nike Unisex All Access HA Blue Blackpack</td>\n",
       "    </tr>\n",
       "    <tr>\n",
       "      <th>1</th>\n",
       "      <td>42855</td>\n",
       "      <td>Women</td>\n",
       "      <td>Accessories</td>\n",
       "      <td>Bags</td>\n",
       "      <td>Clutches</td>\n",
       "      <td>Beige</td>\n",
       "      <td>Summer</td>\n",
       "      <td>2012.0</td>\n",
       "      <td>Casual</td>\n",
       "      <td>French Connection Women Beige Weave Clutch</td>\n",
       "    </tr>\n",
       "    <tr>\n",
       "      <th>2</th>\n",
       "      <td>42059</td>\n",
       "      <td>Unisex</td>\n",
       "      <td>Accessories</td>\n",
       "      <td>Bags</td>\n",
       "      <td>Mobile Pouch</td>\n",
       "      <td>Red</td>\n",
       "      <td>Summer</td>\n",
       "      <td>2015.0</td>\n",
       "      <td>Casual</td>\n",
       "      <td>American Tourister Unisex Red Camera Bag</td>\n",
       "    </tr>\n",
       "    <tr>\n",
       "      <th>3</th>\n",
       "      <td>37433</td>\n",
       "      <td>Women</td>\n",
       "      <td>Accessories</td>\n",
       "      <td>Bags</td>\n",
       "      <td>Handbags</td>\n",
       "      <td>Blue</td>\n",
       "      <td>Summer</td>\n",
       "      <td>2012.0</td>\n",
       "      <td>Casual</td>\n",
       "      <td>Murcia Women Blue Handbag</td>\n",
       "    </tr>\n",
       "    <tr>\n",
       "      <th>4</th>\n",
       "      <td>22002</td>\n",
       "      <td>Women</td>\n",
       "      <td>Accessories</td>\n",
       "      <td>Bags</td>\n",
       "      <td>Handbags</td>\n",
       "      <td>Purple</td>\n",
       "      <td>Winter</td>\n",
       "      <td>2015.0</td>\n",
       "      <td>Casual</td>\n",
       "      <td>Murcia Women Casual Purple Handbag</td>\n",
       "    </tr>\n",
       "    <tr>\n",
       "      <th>...</th>\n",
       "      <td>...</td>\n",
       "      <td>...</td>\n",
       "      <td>...</td>\n",
       "      <td>...</td>\n",
       "      <td>...</td>\n",
       "      <td>...</td>\n",
       "      <td>...</td>\n",
       "      <td>...</td>\n",
       "      <td>...</td>\n",
       "      <td>...</td>\n",
       "    </tr>\n",
       "    <tr>\n",
       "      <th>10795</th>\n",
       "      <td>25648</td>\n",
       "      <td>Unisex</td>\n",
       "      <td>Accessories</td>\n",
       "      <td>Watches</td>\n",
       "      <td>Watches</td>\n",
       "      <td>Black</td>\n",
       "      <td>Winter</td>\n",
       "      <td>2016.0</td>\n",
       "      <td>Casual</td>\n",
       "      <td>Fastrack Unisex Black Casual Watch</td>\n",
       "    </tr>\n",
       "    <tr>\n",
       "      <th>10796</th>\n",
       "      <td>29994</td>\n",
       "      <td>Women</td>\n",
       "      <td>Accessories</td>\n",
       "      <td>Watches</td>\n",
       "      <td>Watches</td>\n",
       "      <td>Black</td>\n",
       "      <td>Winter</td>\n",
       "      <td>2016.0</td>\n",
       "      <td>Casual</td>\n",
       "      <td>Aspen Women Black Dial Watch</td>\n",
       "    </tr>\n",
       "    <tr>\n",
       "      <th>10797</th>\n",
       "      <td>31864</td>\n",
       "      <td>Women</td>\n",
       "      <td>Accessories</td>\n",
       "      <td>Watches</td>\n",
       "      <td>Watches</td>\n",
       "      <td>Silver</td>\n",
       "      <td>Winter</td>\n",
       "      <td>2016.0</td>\n",
       "      <td>Casual</td>\n",
       "      <td>Titan Women Raga Silver Dial Watch</td>\n",
       "    </tr>\n",
       "    <tr>\n",
       "      <th>10798</th>\n",
       "      <td>46315</td>\n",
       "      <td>Men</td>\n",
       "      <td>Accessories</td>\n",
       "      <td>Watches</td>\n",
       "      <td>Watches</td>\n",
       "      <td>Blue</td>\n",
       "      <td>Winter</td>\n",
       "      <td>2016.0</td>\n",
       "      <td>Casual</td>\n",
       "      <td>Fossil Men Blue Dial Analog Chronograph Watch ...</td>\n",
       "    </tr>\n",
       "    <tr>\n",
       "      <th>10799</th>\n",
       "      <td>39020</td>\n",
       "      <td>Men</td>\n",
       "      <td>Accessories</td>\n",
       "      <td>Watches</td>\n",
       "      <td>Watches</td>\n",
       "      <td>Black</td>\n",
       "      <td>Winter</td>\n",
       "      <td>2016.0</td>\n",
       "      <td>Casual</td>\n",
       "      <td>CASIO ENTICER Men Black Dial Analogue Watch A628</td>\n",
       "    </tr>\n",
       "  </tbody>\n",
       "</table>\n",
       "<p>10800 rows × 10 columns</p>\n",
       "</div>"
      ],
      "text/plain": [
       "          id  gender masterCategory subCategory   articleType baseColour  \\\n",
       "0       6557  Unisex    Accessories        Bags     Backpacks       Blue   \n",
       "1      42855   Women    Accessories        Bags      Clutches      Beige   \n",
       "2      42059  Unisex    Accessories        Bags  Mobile Pouch        Red   \n",
       "3      37433   Women    Accessories        Bags      Handbags       Blue   \n",
       "4      22002   Women    Accessories        Bags      Handbags     Purple   \n",
       "...      ...     ...            ...         ...           ...        ...   \n",
       "10795  25648  Unisex    Accessories     Watches       Watches      Black   \n",
       "10796  29994   Women    Accessories     Watches       Watches      Black   \n",
       "10797  31864   Women    Accessories     Watches       Watches     Silver   \n",
       "10798  46315     Men    Accessories     Watches       Watches       Blue   \n",
       "10799  39020     Men    Accessories     Watches       Watches      Black   \n",
       "\n",
       "       season    year   usage  \\\n",
       "0      Summer  2011.0  Casual   \n",
       "1      Summer  2012.0  Casual   \n",
       "2      Summer  2015.0  Casual   \n",
       "3      Summer  2012.0  Casual   \n",
       "4      Winter  2015.0  Casual   \n",
       "...       ...     ...     ...   \n",
       "10795  Winter  2016.0  Casual   \n",
       "10796  Winter  2016.0  Casual   \n",
       "10797  Winter  2016.0  Casual   \n",
       "10798  Winter  2016.0  Casual   \n",
       "10799  Winter  2016.0  Casual   \n",
       "\n",
       "                                      productDisplayName  \n",
       "0               Nike Unisex All Access HA Blue Blackpack  \n",
       "1             French Connection Women Beige Weave Clutch  \n",
       "2               American Tourister Unisex Red Camera Bag  \n",
       "3                              Murcia Women Blue Handbag  \n",
       "4                     Murcia Women Casual Purple Handbag  \n",
       "...                                                  ...  \n",
       "10795                 Fastrack Unisex Black Casual Watch  \n",
       "10796                       Aspen Women Black Dial Watch  \n",
       "10797                 Titan Women Raga Silver Dial Watch  \n",
       "10798  Fossil Men Blue Dial Analog Chronograph Watch ...  \n",
       "10799  CASIO ENTICER Men Black Dial Analogue Watch A628   \n",
       "\n",
       "[10800 rows x 10 columns]"
      ]
     },
     "execution_count": 23,
     "metadata": {},
     "output_type": "execute_result"
    }
   ],
   "source": [
    "sampled_styles"
   ]
  },
  {
   "cell_type": "markdown",
   "metadata": {},
   "source": [
    "# Loading all images for training and testing"
   ]
  },
  {
   "cell_type": "code",
   "execution_count": 24,
   "metadata": {},
   "outputs": [],
   "source": [
    "IMG_DIMENSION = (80, 60, 3)"
   ]
  },
  {
   "cell_type": "code",
   "execution_count": 25,
   "metadata": {},
   "outputs": [],
   "source": [
    "train_images_idx = sampled_styles['id']\n",
    "test_images_idx = [i for i in styles['id'] if i not in train_images_idx]"
   ]
  },
  {
   "cell_type": "code",
   "execution_count": 38,
   "metadata": {},
   "outputs": [
    {
     "name": "stdout",
     "output_type": "stream",
     "text": [
      "Progress: [===================>] 100%\n",
      "\n",
      "Wall time: 30 s\n"
     ]
    }
   ],
   "source": [
    "%%time\n",
    "train_images, train_images_idx = utils.read_images(path = PROJECT_PATH + '\\\\images',\n",
    "                              filenames = train_images_idx,\n",
    "                              extension = 'jpg',\n",
    "                              shape = IMG_DIMENSION, \n",
    "                               verbose = 1)"
   ]
  },
  {
   "cell_type": "code",
   "execution_count": 39,
   "metadata": {},
   "outputs": [
    {
     "name": "stdout",
     "output_type": "stream",
     "text": [
      "Progress: [===================>] 100%\n",
      "\n",
      "Wall time: 1min 59s\n"
     ]
    }
   ],
   "source": [
    "%%time\n",
    "test_images, test_images_idx = utils.read_images(path = PROJECT_PATH + '\\\\images',\n",
    "                              filenames = test_images_idx,\n",
    "                              extension = 'jpg',\n",
    "                              shape = IMG_DIMENSION, \n",
    "                               verbose = 1)"
   ]
  },
  {
   "cell_type": "markdown",
   "metadata": {},
   "source": [
    "## Saving train Images array and images names in pickle form"
   ]
  },
  {
   "cell_type": "code",
   "execution_count": 18,
   "metadata": {},
   "outputs": [
    {
     "name": "stdout",
     "output_type": "stream",
     "text": [
      "Variable successfully saved in C:\\Users\\user\\Jupyter\\DS 5230\\ds5230_2020_project\\pickles\\train_images.pickle\n",
      "Variable successfully saved in C:\\Users\\user\\Jupyter\\DS 5230\\ds5230_2020_project\\pickles\\train_images_names.pickle\n",
      "Variable successfully saved in C:\\Users\\user\\Jupyter\\DS 5230\\ds5230_2020_project\\pickles\\test_images.pickle\n",
      "Variable successfully saved in C:\\Users\\user\\Jupyter\\DS 5230\\ds5230_2020_project\\pickles\\test_images_names.pickle\n"
     ]
    }
   ],
   "source": [
    "utils.save_pickle(file = PICKLE_PATH + \"train_images\", variable = train_images)\n",
    "utils.save_pickle(file = PICKLE_PATH + \"train_images_names\", variable = train_images_idx)\n",
    "\n",
    "utils.save_pickle(file = PICKLE_PATH + \"test_images\", variable = test_images)\n",
    "utils.save_pickle(file = PICKLE_PATH + \"test_images_names\", variable = test_images_idx)"
   ]
  }
 ],
 "metadata": {
  "kernelspec": {
   "display_name": "Python 3",
   "language": "python",
   "name": "python3"
  },
  "language_info": {
   "codemirror_mode": {
    "name": "ipython",
    "version": 3
   },
   "file_extension": ".py",
   "mimetype": "text/x-python",
   "name": "python",
   "nbconvert_exporter": "python",
   "pygments_lexer": "ipython3",
   "version": "3.6.5"
  }
 },
 "nbformat": 4,
 "nbformat_minor": 2
}

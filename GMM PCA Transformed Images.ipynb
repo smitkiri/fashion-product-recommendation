{
 "cells": [
  {
   "cell_type": "code",
   "execution_count": 1,
   "metadata": {},
   "outputs": [],
   "source": [
    "import pandas as pd\n",
    "import matplotlib.pyplot as plt\n",
    "import seaborn as sns\n",
    "from os import getcwd\n",
    "import numpy as np\n",
    "from importlib import reload\n",
    "from sklearn.metrics import silhouette_score #  library to Silhouette Coefficient"
   ]
  },
  {
   "cell_type": "code",
   "execution_count": 2,
   "metadata": {},
   "outputs": [],
   "source": [
    "from sklearn.mixture import GaussianMixture"
   ]
  },
  {
   "cell_type": "code",
   "execution_count": 3,
   "metadata": {
    "scrolled": true
   },
   "outputs": [
    {
     "name": "stderr",
     "output_type": "stream",
     "text": [
      "Using TensorFlow backend.\n"
     ]
    },
    {
     "data": {
      "text/plain": [
       "<module 'utils' from 'C:\\\\Users\\\\Smit\\\\ds5230_2020_project\\\\utils.py'>"
      ]
     },
     "execution_count": 3,
     "metadata": {},
     "output_type": "execute_result"
    }
   ],
   "source": [
    "import utils\n",
    "reload(utils)"
   ]
  },
  {
   "cell_type": "code",
   "execution_count": 4,
   "metadata": {},
   "outputs": [],
   "source": [
    "PROJECT_PATH = getcwd()\n",
    "PICKLE_PATH = PROJECT_PATH + \"\\\\pickles\\\\\""
   ]
  },
  {
   "cell_type": "markdown",
   "metadata": {},
   "source": [
    "# Loading Train Images"
   ]
  },
  {
   "cell_type": "code",
   "execution_count": 5,
   "metadata": {
    "scrolled": false
   },
   "outputs": [],
   "source": [
    "train_images = utils.open_pickle(file = PICKLE_PATH + \"train_images\" )"
   ]
  },
  {
   "cell_type": "code",
   "execution_count": 6,
   "metadata": {
    "scrolled": false
   },
   "outputs": [
    {
     "data": {
      "text/plain": [
       "(80, 60, 3)"
      ]
     },
     "execution_count": 6,
     "metadata": {},
     "output_type": "execute_result"
    }
   ],
   "source": [
    "IMG_DIMENSION = train_images[0].shape\n",
    "IMG_DIMENSION"
   ]
  },
  {
   "cell_type": "code",
   "execution_count": 7,
   "metadata": {
    "scrolled": false
   },
   "outputs": [],
   "source": [
    "# flattening image\n",
    "train_images = train_images.reshape((train_images.shape[0], IMG_DIMENSION[0]*IMG_DIMENSION[1]*IMG_DIMENSION[2]))\n",
    "train_images = train_images/255.0 # normalizing image"
   ]
  },
  {
   "cell_type": "code",
   "execution_count": 8,
   "metadata": {
    "scrolled": false
   },
   "outputs": [
    {
     "name": "stdout",
     "output_type": "stream",
     "text": [
      "Total images: 10796\n",
      "Dimension of image before PCA Transformation: 14400\n"
     ]
    }
   ],
   "source": [
    "print(\"Total images: %d\"%train_images.shape[0])\n",
    "print(\"Dimension of image before PCA Transformation: %d\"%train_images.shape[1])"
   ]
  },
  {
   "cell_type": "markdown",
   "metadata": {},
   "source": [
    "# Loading PCA object and taking PCA transformation"
   ]
  },
  {
   "cell_type": "code",
   "execution_count": 9,
   "metadata": {},
   "outputs": [],
   "source": [
    "optimal_metrics = utils.open_pickle(PICKLE_PATH + \"optimal_metrics\")\n",
    "MAX_PCA_COMPONENTS = optimal_metrics['MAX_PCA_COMPONENTS']\n",
    "pca_fit = utils.open_pickle(PICKLE_PATH + \"pca_fit_\"  + str(MAX_PCA_COMPONENTS) + '_components')"
   ]
  },
  {
   "cell_type": "code",
   "execution_count": 10,
   "metadata": {},
   "outputs": [],
   "source": [
    "# taking PCA transformation\n",
    "train_images = pca_fit.transform(train_images)"
   ]
  },
  {
   "cell_type": "code",
   "execution_count": 11,
   "metadata": {},
   "outputs": [
    {
     "name": "stdout",
     "output_type": "stream",
     "text": [
      "Dimension of image after PCA Transformation: 145\n"
     ]
    }
   ],
   "source": [
    "print(\"Dimension of image after PCA Transformation: %d\"%train_images.shape[1])"
   ]
  },
  {
   "cell_type": "markdown",
   "metadata": {},
   "source": [
    "# Performing GMM on PCA tranformed images"
   ]
  },
  {
   "cell_type": "code",
   "execution_count": 12,
   "metadata": {
    "scrolled": true
   },
   "outputs": [
    {
     "name": "stdout",
     "output_type": "stream",
     "text": [
      "---Fitting GMM with 8 clusters---\n",
      "Time taken: 0.45 minutes\n",
      "---Fitting GMM with 9 clusters---\n",
      "Time taken: 0.42 minutes\n",
      "---Fitting GMM with 10 clusters---\n",
      "Time taken: 0.58 minutes\n",
      "---Fitting GMM with 11 clusters---\n",
      "Time taken: 0.47 minutes\n",
      "---Fitting GMM with 12 clusters---\n",
      "Time taken: 0.63 minutes\n",
      "---Fitting GMM with 13 clusters---\n",
      "Time taken: 0.7 minutes\n",
      "---Fitting GMM with 14 clusters---\n",
      "Time taken: 0.75 minutes\n",
      "---Fitting GMM with 15 clusters---\n",
      "Time taken: 0.57 minutes\n",
      "---Fitting GMM with 16 clusters---\n",
      "Time taken: 0.48 minutes\n",
      "Wall time: 5min 7s\n"
     ]
    }
   ],
   "source": [
    "%%time\n",
    "n_cluster_list = [i for i in range(8,17)]\n",
    "gmms_fit = {}\n",
    "for clusters in n_cluster_list:\n",
    "    start_time = utils.get_time()\n",
    "    print(\"---Fitting GMM with %d clusters---\"%clusters)\n",
    "    gmm = GaussianMixture(n_components =  clusters,  \n",
    "                    random_state = 40)\n",
    "    gmms_fit[clusters] = gmm.fit(train_images)\n",
    "    time = utils.get_time() - start_time\n",
    "    print(\"Time taken: %s minutes\" %round(time.seconds/60,2))"
   ]
  },
  {
   "cell_type": "markdown",
   "metadata": {},
   "source": [
    "## Calculating Silhouette Score for all values of clusters"
   ]
  },
  {
   "cell_type": "code",
   "execution_count": 16,
   "metadata": {},
   "outputs": [
    {
     "name": "stdout",
     "output_type": "stream",
     "text": [
      "----- Calcualting Silhouette score with 8 clusters (GMM)\n",
      "----- Calcualting Silhouette score with 9 clusters (GMM)\n",
      "----- Calcualting Silhouette score with 10 clusters (GMM)\n",
      "----- Calcualting Silhouette score with 11 clusters (GMM)\n",
      "----- Calcualting Silhouette score with 12 clusters (GMM)\n",
      "----- Calcualting Silhouette score with 13 clusters (GMM)\n",
      "----- Calcualting Silhouette score with 14 clusters (GMM)\n",
      "----- Calcualting Silhouette score with 15 clusters (GMM)\n",
      "----- Calcualting Silhouette score with 16 clusters (GMM)\n",
      "Wall time: 34.5 s\n"
     ]
    }
   ],
   "source": [
    "%%time\n",
    "gmm_ss = {}\n",
    "for clusters in n_cluster_list:\n",
    "    print(\"----- Calcualting Silhouette score with %d clusters (GMM)\"%clusters)\n",
    "    gmm_ss[clusters] = silhouette_score(train_images, labels=gmms_fit[clusters].predict(train_images))"
   ]
  },
  {
   "cell_type": "code",
   "execution_count": 18,
   "metadata": {},
   "outputs": [
    {
     "data": {
      "text/plain": [
       "Text(0, 0.5, 'Silhouette Cofficient')"
      ]
     },
     "execution_count": 18,
     "metadata": {},
     "output_type": "execute_result"
    },
    {
     "data": {
      "image/png": "[encoded data removed]",
      "text/plain": [
       "<Figure size 720x576 with 1 Axes>"
      ]
     },
     "metadata": {
      "needs_background": "light"
     },
     "output_type": "display_data"
    }
   ],
   "source": [
    "# for components in n_components_list:\n",
    "#     print('Silhouette Cofficient for %d clusters GMM: %f'%(components, gmm_ss[components]))\n",
    "    \n",
    "plt.figure(figsize=(10,8))\n",
    "plt.plot(n_cluster_list, [v for k, v in gmm_ss.items()])\n",
    "plt.scatter(n_cluster_list, [v for k, v in gmm_ss.items()])\n",
    "plt.title(\"Silhouette Cofficient for Various Different Clusters (GMM)\")\n",
    "plt.xlabel(\"Clusters\")\n",
    "plt.ylabel(\"Silhouette Cofficient\")"
   ]
  },
  {
   "cell_type": "markdown",
   "metadata": {},
   "source": [
    "# Saving GMM fit"
   ]
  },
  {
   "cell_type": "code",
   "execution_count": 19,
   "metadata": {},
   "outputs": [
    {
     "name": "stdout",
     "output_type": "stream",
     "text": [
      "Variable successfully saved in C:\\Users\\Smit\\ds5230_2020_project\\pickles\\GMM_PCA_145components_12clusters.pickle\n"
     ]
    }
   ],
   "source": [
    "N_CLUSTERS = 12\n",
    "utils.save_pickle(PICKLE_PATH + \"GMM_PCA_%scomponents_%sclusters\"%(str(MAX_PCA_COMPONENTS),str(N_CLUSTERS)), \n",
    "                  gmms_fit[N_CLUSTERS])"
   ]
  },
  {
   "cell_type": "code",
   "execution_count": 20,
   "metadata": {},
   "outputs": [
    {
     "name": "stdout",
     "output_type": "stream",
     "text": [
      "Variable successfully saved in C:\\Users\\Smit\\ds5230_2020_project\\pickles\\optimal_metrics.pickle\n"
     ]
    }
   ],
   "source": [
    "try:\n",
    "    optimal_metrics = utils.open_pickle(PICKLE_PATH + \"optimal_metrics\")\n",
    "except: \n",
    "    optimal_metrics = {'GMM_CLUSTERS': N_CLUSTERS}\n",
    "    \n",
    "optimal_metrics['GMM_CLUSTERS'] = N_CLUSTERS\n",
    "utils.save_pickle(PICKLE_PATH + \"optimal_metrics\", optimal_metrics)"
   ]
  }
 ],
 "metadata": {
  "kernelspec": {
   "display_name": "Python 3",
   "language": "python",
   "name": "python3"
  },
  "language_info": {
   "codemirror_mode": {
    "name": "ipython",
    "version": 3
   },
   "file_extension": ".py",
   "mimetype": "text/x-python",
   "name": "python",
   "nbconvert_exporter": "python",
   "pygments_lexer": "ipython3",
   "version": "3.6.5"
  }
 },
 "nbformat": 4,
 "nbformat_minor": 4
}

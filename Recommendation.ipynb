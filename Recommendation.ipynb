{
 "cells": [
  {
   "cell_type": "code",
   "execution_count": 1,
   "metadata": {},
   "outputs": [],
   "source": [
    "import warnings\n",
    "warnings.filterwarnings(\"ignore\")"
   ]
  },
  {
   "cell_type": "code",
   "execution_count": 2,
   "metadata": {},
   "outputs": [],
   "source": [
    "import pandas as pd\n",
    "from importlib import reload\n",
    "import matplotlib\n",
    "import matplotlib.pyplot as plt\n",
    "import numpy as np\n",
    "import random\n",
    "import seaborn as sns\n",
    "from os import getcwd\n",
    "import cv2\n",
    "from sklearn.metrics import pairwise_distances"
   ]
  },
  {
   "cell_type": "code",
   "execution_count": 3,
   "metadata": {},
   "outputs": [
    {
     "name": "stderr",
     "output_type": "stream",
     "text": [
      "Using TensorFlow backend.\n"
     ]
    },
    {
     "data": {
      "text/plain": [
       "<module 'utils' from 'C:\\\\Users\\\\Smit\\\\ds5230_2020_project\\\\utils.py'>"
      ]
     },
     "execution_count": 3,
     "metadata": {},
     "output_type": "execute_result"
    }
   ],
   "source": [
    "import utils\n",
    "reload(utils)"
   ]
  },
  {
   "cell_type": "code",
   "execution_count": 4,
   "metadata": {},
   "outputs": [],
   "source": [
    "PROJECT_PATH = getcwd()\n",
    "PICKLE_PATH = PROJECT_PATH + \"\\\\pickles\\\\\""
   ]
  },
  {
   "cell_type": "markdown",
   "metadata": {},
   "source": [
    "# Loading Train and Test Images"
   ]
  },
  {
   "cell_type": "code",
   "execution_count": 5,
   "metadata": {
    "scrolled": false
   },
   "outputs": [],
   "source": [
    "train_images = utils.open_pickle(file = PICKLE_PATH + \"train_images\" )\n",
    "train_images_idx = utils.open_pickle(file = PICKLE_PATH + \"train_images_names\")\n",
    "\n",
    "test_images = utils.open_pickle(file = PICKLE_PATH + \"test_images\")\n",
    "test_images_idx = utils.open_pickle(file = PICKLE_PATH + \"test_images_names\")"
   ]
  },
  {
   "cell_type": "code",
   "execution_count": 6,
   "metadata": {
    "scrolled": false
   },
   "outputs": [
    {
     "name": "stdout",
     "output_type": "stream",
     "text": [
      "(80, 60, 3)\n",
      "14400\n"
     ]
    }
   ],
   "source": [
    "IMG_DIMENSION = train_images[0].shape\n",
    "print(IMG_DIMENSION)\n",
    "FLATTEN_IMG_SIZE = IMG_DIMENSION[0]*IMG_DIMENSION[1]*IMG_DIMENSION[2]\n",
    "print(FLATTEN_IMG_SIZE)"
   ]
  },
  {
   "cell_type": "code",
   "execution_count": 7,
   "metadata": {
    "scrolled": false
   },
   "outputs": [
    {
     "name": "stdout",
     "output_type": "stream",
     "text": [
      "Total images in database: 10796\n"
     ]
    }
   ],
   "source": [
    "print(\"Total images in database: %d\"%train_images.shape[0])"
   ]
  },
  {
   "cell_type": "markdown",
   "metadata": {},
   "source": [
    "# Loading Embeddings for Train and Test Images"
   ]
  },
  {
   "cell_type": "code",
   "execution_count": 8,
   "metadata": {},
   "outputs": [],
   "source": [
    "train_images_embd = utils.open_pickle(PICKLE_PATH + \"train_images_embd\")\n",
    "test_images_emb = utils.open_pickle(PICKLE_PATH + \"test_images_embd\")"
   ]
  },
  {
   "cell_type": "markdown",
   "metadata": {},
   "source": [
    "# Loading Precomputed Variables"
   ]
  },
  {
   "cell_type": "code",
   "execution_count": 9,
   "metadata": {},
   "outputs": [],
   "source": [
    "optimal_metrics = utils.open_pickle(PICKLE_PATH + \"optimal_metrics\")\n",
    "MAX_PCA_COMPONENTS = optimal_metrics['MAX_PCA_COMPONENTS']\n",
    "KMeans_CLUSTERS = optimal_metrics['K-MEANS_CLUSTERS']\n",
    "GMM_CLUSTERS = optimal_metrics['GMM_CLUSTERS']"
   ]
  },
  {
   "cell_type": "markdown",
   "metadata": {},
   "source": [
    "# Loading PCA and Clustering Method objects"
   ]
  },
  {
   "cell_type": "code",
   "execution_count": 10,
   "metadata": {},
   "outputs": [],
   "source": [
    "pca_fit = utils.open_pickle(PICKLE_PATH + \"pca_fit_%s_components\"%str(MAX_PCA_COMPONENTS))\n",
    "\n",
    "kmeans_pca_fit = utils.open_pickle(PICKLE_PATH + \"K-Means_PCA_%scomponents_%sclusters\"%(str(MAX_PCA_COMPONENTS),\n",
    "                                                                                    str(KMeans_CLUSTERS)))\n",
    "\n",
    "gmm_pca_fit = utils.open_pickle(PICKLE_PATH + \"GMM_PCA_%scomponents_%sclusters\"%(str(MAX_PCA_COMPONENTS),\n",
    "                                                                                    str(GMM_CLUSTERS)))"
   ]
  },
  {
   "cell_type": "code",
   "execution_count": 11,
   "metadata": {},
   "outputs": [],
   "source": [
    "pca_transf_train_images = train_images.reshape((train_images.shape[0], FLATTEN_IMG_SIZE))\n",
    "pca_transf_train_images = pca_transf_train_images/255.0 # normalizing image\n",
    "pca_transf_train_images = pca_fit.transform(pca_transf_train_images)"
   ]
  },
  {
   "cell_type": "code",
   "execution_count": 12,
   "metadata": {},
   "outputs": [
    {
     "name": "stdout",
     "output_type": "stream",
     "text": [
      "Dimension of image after PCA Transformation: 145\n"
     ]
    }
   ],
   "source": [
    "print(\"Dimension of image after PCA Transformation: %d\"%pca_transf_train_images.shape[1])"
   ]
  },
  {
   "cell_type": "code",
   "execution_count": 13,
   "metadata": {},
   "outputs": [],
   "source": [
    "# Removing ticks and labels from image plot to get a border\n",
    "plt.rcParams['xtick.bottom'] = False\n",
    "plt.rcParams['ytick.left'] = False\n",
    "plt.rcParams['xtick.labelbottom'] = False\n",
    "plt.rcParams['ytick.labelleft'] = False"
   ]
  },
  {
   "cell_type": "code",
   "execution_count": 20,
   "metadata": {},
   "outputs": [
    {
     "data": {
      "image/png": "[encoded data removed]",
      "text/plain": [
       "<Figure size 432x288 with 1 Axes>"
      ]
     },
     "metadata": {},
     "output_type": "display_data"
    }
   ],
   "source": [
    "idx = 109\n",
    "input_image = test_images[idx]\n",
    "#input_image = cv2.imread(\"test_image.jpg\")\n",
    "ax = utils.plot_images([input_image], axis_style='on')\n",
    "plt.gca().xaxis.set_major_locator(plt.NullLocator())\n",
    "plt.gca().yaxis.set_major_locator(plt.NullLocator())\n",
    "plt.savefig(\"Outputs/test_input_%d.jpg\"%idx)\n",
    "plt.show()"
   ]
  },
  {
   "cell_type": "code",
   "execution_count": 21,
   "metadata": {},
   "outputs": [
    {
     "data": {
      "image/png": "[encoded data removed]",
      "text/plain": [
       "<Figure size 1152x648 with 5 Axes>"
      ]
     },
     "metadata": {},
     "output_type": "display_data"
    }
   ],
   "source": [
    "img_idx = utils.recommend_images(input_image, 5, pca_transf_train_images, pca_fit = pca_fit, cluster_fit = gmm_pca_fit)\n",
    "imgs = [train_images[i] for i in img_idx]\n",
    "utils.plot_images(imgs, nrows = 1, axis_style='on', figsize=(16,9))\n",
    "plt.savefig(\"Outputs/test_output_%d.jpg\"%idx)\n",
    "plt.show()"
   ]
  },
  {
   "cell_type": "code",
   "execution_count": null,
   "metadata": {},
   "outputs": [],
   "source": []
  },
  {
   "cell_type": "code",
   "execution_count": null,
   "metadata": {},
   "outputs": [],
   "source": []
  }
 ],
 "metadata": {
  "kernelspec": {
   "display_name": "Python 3",
   "language": "python",
   "name": "python3"
  },
  "language_info": {
   "codemirror_mode": {
    "name": "ipython",
    "version": 3
   },
   "file_extension": ".py",
   "mimetype": "text/x-python",
   "name": "python",
   "nbconvert_exporter": "python",
   "pygments_lexer": "ipython3",
   "version": "3.6.5"
  }
 },
 "nbformat": 4,
 "nbformat_minor": 2
}

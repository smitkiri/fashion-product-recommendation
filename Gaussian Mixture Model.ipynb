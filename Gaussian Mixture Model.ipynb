{
 "cells": [
  {
   "cell_type": "code",
   "execution_count": 1,
   "metadata": {},
   "outputs": [],
   "source": [
    "import pandas as pd\n",
    "from importlib import reload\n",
    "import matplotlib.pyplot as plt\n",
    "import numpy as np\n",
    "import random\n",
    "import seaborn as sns\n",
    "from os import getcwd"
   ]
  },
  {
   "cell_type": "code",
   "execution_count": 2,
   "metadata": {},
   "outputs": [],
   "source": [
    "from sklearn.mixture import GaussianMixture"
   ]
  },
  {
   "cell_type": "code",
   "execution_count": 3,
   "metadata": {},
   "outputs": [
    {
     "data": {
      "text/plain": [
       "<module 'utils' from 'C:\\\\Users\\\\Smit\\\\ds5230_2020_project\\\\utils.py'>"
      ]
     },
     "execution_count": 3,
     "metadata": {},
     "output_type": "execute_result"
    }
   ],
   "source": [
    "import utils\n",
    "reload(utils)"
   ]
  },
  {
   "cell_type": "code",
   "execution_count": 4,
   "metadata": {},
   "outputs": [],
   "source": [
    "project_path = getcwd()\n",
    "pickle_path = \".\\\\pickles\\\\\""
   ]
  },
  {
   "cell_type": "markdown",
   "metadata": {},
   "source": [
    "# Loading flatten images"
   ]
  },
  {
   "cell_type": "code",
   "execution_count": 5,
   "metadata": {},
   "outputs": [],
   "source": [
    "images = utils.open_pickle(file = pickle_path + \"flattened_images\")\n",
    "images = images/255.0 # normalizing image\n",
    "images_idx = utils.open_pickle(file = pickle_path +\"flattened_image_names\")"
   ]
  },
  {
   "cell_type": "code",
   "execution_count": 6,
   "metadata": {},
   "outputs": [
    {
     "name": "stdout",
     "output_type": "stream",
     "text": [
      "Original flatten image shape before using PCA transformation: 14400\n"
     ]
    }
   ],
   "source": [
    "print(\"Original flatten image shape before using PCA transformation:\", images[0].shape[0])"
   ]
  },
  {
   "cell_type": "markdown",
   "metadata": {},
   "source": [
    "# Loading PCA object"
   ]
  },
  {
   "cell_type": "code",
   "execution_count": 8,
   "metadata": {},
   "outputs": [
    {
     "data": {
      "text/plain": [
       "(10796, 1000)"
      ]
     },
     "execution_count": 8,
     "metadata": {},
     "output_type": "execute_result"
    }
   ],
   "source": [
    "MAX_PCA_COMPONENTS = 1000\n",
    "transformed_images = utils.open_pickle(pickle_path + \"pca_transformation_results_\"+str(MAX_PCA_COMPONENTS))[\"transformed_images\"]\n",
    "transformed_images.shape"
   ]
  },
  {
   "cell_type": "markdown",
   "metadata": {},
   "source": [
    "# Running Gaussian Mixture Model on PCA tranformed images"
   ]
  },
  {
   "cell_type": "code",
   "execution_count": 9,
   "metadata": {
    "scrolled": true
   },
   "outputs": [
    {
     "name": "stdout",
     "output_type": "stream",
     "text": [
      "Initialization 0\n",
      "  Iteration 10\n",
      "Initialization converged: True\n",
      "Initialization 1\n",
      "Initialization converged: True\n",
      "Initialization 2\n",
      "Initialization converged: True\n",
      "Initialization 3\n",
      "Initialization converged: True\n",
      "Initialization 4\n",
      "  Iteration 10\n",
      "Initialization converged: True\n",
      "Initialization 5\n",
      "Initialization converged: True\n",
      "Initialization 6\n",
      "  Iteration 10\n",
      "Initialization converged: True\n",
      "Initialization 7\n",
      "  Iteration 10\n",
      "Initialization converged: True\n",
      "Initialization 8\n",
      "  Iteration 10\n",
      "Initialization converged: True\n",
      "Initialization 9\n",
      "  Iteration 10\n",
      "Initialization converged: True\n",
      "Wall time: 25min 22s\n"
     ]
    },
    {
     "data": {
      "text/plain": [
       "GaussianMixture(covariance_type='full', init_params='kmeans', max_iter=100,\n",
       "                means_init=None, n_components=12, n_init=10,\n",
       "                precisions_init=None, random_state=40, reg_covar=1e-06,\n",
       "                tol=0.001, verbose=1, verbose_interval=10, warm_start=False,\n",
       "                weights_init=None)"
      ]
     },
     "execution_count": 9,
     "metadata": {},
     "output_type": "execute_result"
    }
   ],
   "source": [
    "%%time\n",
    "N_COMPONENTS = 12 \n",
    "gmm = GaussianMixture(n_components =  N_COMPONENTS, \n",
    "                n_init = 10, \n",
    "                random_state = 40, \n",
    "                verbose = 1)\n",
    "gmm.fit(transformed_images)"
   ]
  },
  {
   "cell_type": "markdown",
   "metadata": {},
   "source": [
    "# Saving Gaussian Mixture Model fit"
   ]
  },
  {
   "cell_type": "code",
   "execution_count": 10,
   "metadata": {},
   "outputs": [
    {
     "name": "stdout",
     "output_type": "stream",
     "text": [
      "Variable successfully saved in .\\pickles\\GMM_pca_1000_clusters_12.pickle\n"
     ]
    }
   ],
   "source": [
    "utils.save_pickle(pickle_path + \"GMM_pca_\" + str(MAX_PCA_COMPONENTS) + \"_clusters_\" + str(N_COMPONENTS), gmm)"
   ]
  },
  {
   "cell_type": "code",
   "execution_count": null,
   "metadata": {},
   "outputs": [],
   "source": []
  }
 ],
 "metadata": {
  "kernelspec": {
   "display_name": "Python 3",
   "language": "python",
   "name": "python3"
  },
  "language_info": {
   "codemirror_mode": {
    "name": "ipython",
    "version": 3
   },
   "file_extension": ".py",
   "mimetype": "text/x-python",
   "name": "python",
   "nbconvert_exporter": "python",
   "pygments_lexer": "ipython3",
   "version": "3.6.5"
  }
 },
 "nbformat": 4,
 "nbformat_minor": 4
}
